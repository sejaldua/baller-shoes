{
 "cells": [
  {
   "cell_type": "code",
   "execution_count": 2,
   "metadata": {},
   "outputs": [],
   "source": [
    "import requests\n",
    "import urllib.request\n",
    "import time\n",
    "from bs4 import BeautifulSoup\n",
    "import numpy as np\n",
    "import pandas as pd\n",
    "import requests\n",
    "from tqdm import tqdm, tqdm_pandas\n",
    "import matplotlib.pyplot as plt\n",
    "\n",
    "tqdm.pandas()\n",
    "\n",
    "url = 'https://ballershoesdb.com/shoes/'\n",
    "page = requests.get(url)\n",
    "html_contents = page.text\n",
    "soup = BeautifulSoup(html_contents, 'html.parser')"
   ]
  },
  {
   "cell_type": "code",
   "execution_count": 31,
   "metadata": {},
   "outputs": [
    {
     "name": "stdout",
     "output_type": "stream",
     "text": [
      "1 2 3 4 5 6 7 8 9 10 11 12 13 14 15 16 17 18 19 20 21 22 23 24 25 26 27 28 29 30 31 32 33 34 35 36 37 38 39 "
     ]
    }
   ],
   "source": [
    "count = 0\n",
    "data = []\n",
    "for i in range(1, 40):\n",
    "    print(i, end=\" \")\n",
    "    url = f\"https://ballershoesdb.com/shoes/page/{i}/\"\n",
    "    page = requests.get(url)\n",
    "    html_contents = page.text\n",
    "    soup = BeautifulSoup(html_contents, 'html.parser')\n",
    "    shoes = soup.find_all('div', class_='item-inside')\n",
    "    for shoe in shoes:\n",
    "        count += 1\n",
    "        name = shoe.find(\"h3\").find(\"a\").getText()\n",
    "        image_tag = shoe.find(\"img\", alt_=\"\")\n",
    "        try:\n",
    "            image_src = image_tag['data-lazy-srcset'].split(' ')[0]\n",
    "        except:\n",
    "            continue\n",
    "        response = requests.get(image_src)\n",
    "        fpath = f'shoe_{count}.jpg'\n",
    "        with open(f'shoe_images/{fpath}', 'wb') as f:\n",
    "            f.write(response.content)\n",
    "        data.append([fpath, name])"
   ]
  },
  {
   "cell_type": "code",
   "execution_count": 32,
   "metadata": {},
   "outputs": [],
   "source": [
    "df = pd.DataFrame(data, columns=['Shoe Tag', 'Shoe Name'])\n",
    "df.to_csv('shoe-metadata.csv', index=False)"
   ]
  },
  {
   "cell_type": "code",
   "execution_count": null,
   "metadata": {},
   "outputs": [],
   "source": []
  }
 ],
 "metadata": {
  "interpreter": {
   "hash": "a665b5d41d17b532ea9890333293a1b812fa0b73c9c25c950b3cedf1bebd0438"
  },
  "kernelspec": {
   "display_name": "Python 3.9.16 64-bit",
   "language": "python",
   "name": "python3"
  },
  "language_info": {
   "codemirror_mode": {
    "name": "ipython",
    "version": 3
   },
   "file_extension": ".py",
   "mimetype": "text/x-python",
   "name": "python",
   "nbconvert_exporter": "python",
   "pygments_lexer": "ipython3",
   "version": "3.9.17"
  },
  "orig_nbformat": 4
 },
 "nbformat": 4,
 "nbformat_minor": 2
}
