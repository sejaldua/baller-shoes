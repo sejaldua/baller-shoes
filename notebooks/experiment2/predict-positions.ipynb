{
 "cells": [
  {
   "cell_type": "code",
   "execution_count": 111,
   "metadata": {},
   "outputs": [],
   "source": [
    "import pandas as pd\n",
    "import numpy as np\n",
    "from sklearn.model_selection import train_test_split\n",
    "from sklearn.ensemble import RandomForestClassifier\n",
    "from sklearn.neighbors import KNeighborsClassifier\n",
    "from sklearn.tree import DecisionTreeClassifier\n",
    "from sklearn.metrics import accuracy_score\n",
    "from sklearn.metrics import confusion_matrix, ConfusionMatrixDisplay\n",
    "from sklearn.metrics import classification_report\n",
    "from sklearn.model_selection import GridSearchCV\n",
    "from sklearn.metrics import mean_squared_error\n",
    "from sklearn.linear_model import LogisticRegression\n",
    "from sklearn.preprocessing import StandardScaler\n",
    "import matplotlib.pyplot as plt\n",
    "import warnings\n",
    "warnings.filterwarnings(\"ignore\")"
   ]
  },
  {
   "cell_type": "code",
   "execution_count": 112,
   "metadata": {},
   "outputs": [],
   "source": [
    "def position_mapping(x):\n",
    "    if 'C' in x:\n",
    "        return 'Center'\n",
    "    elif 'F' in x:\n",
    "        return 'Forward'\n",
    "    elif 'G' in x:\n",
    "        return 'Guard'"
   ]
  },
  {
   "cell_type": "code",
   "execution_count": 113,
   "metadata": {},
   "outputs": [
    {
     "name": "stdout",
     "output_type": "stream",
     "text": [
      "11526 rows\n",
      "2337 rows\n"
     ]
    },
    {
     "data": {
      "text/html": [
       "<div>\n",
       "<style scoped>\n",
       "    .dataframe tbody tr th:only-of-type {\n",
       "        vertical-align: middle;\n",
       "    }\n",
       "\n",
       "    .dataframe tbody tr th {\n",
       "        vertical-align: top;\n",
       "    }\n",
       "\n",
       "    .dataframe thead th {\n",
       "        text-align: right;\n",
       "    }\n",
       "</style>\n",
       "<table border=\"1\" class=\"dataframe\">\n",
       "  <thead>\n",
       "    <tr style=\"text-align: right;\">\n",
       "      <th></th>\n",
       "      <th>Player</th>\n",
       "      <th>Age</th>\n",
       "      <th>G</th>\n",
       "      <th>MP</th>\n",
       "      <th>PER</th>\n",
       "      <th>TS%</th>\n",
       "      <th>3PAr</th>\n",
       "      <th>FTr</th>\n",
       "      <th>ORB%</th>\n",
       "      <th>DRB%</th>\n",
       "      <th>...</th>\n",
       "      <th>USG%</th>\n",
       "      <th>OWS</th>\n",
       "      <th>DWS</th>\n",
       "      <th>WS</th>\n",
       "      <th>WS/48</th>\n",
       "      <th>OBPM</th>\n",
       "      <th>DBPM</th>\n",
       "      <th>BPM</th>\n",
       "      <th>VORP</th>\n",
       "      <th>Position</th>\n",
       "    </tr>\n",
       "  </thead>\n",
       "  <tbody>\n",
       "    <tr>\n",
       "      <th>0</th>\n",
       "      <td>Chris Anstey</td>\n",
       "      <td>25</td>\n",
       "      <td>73</td>\n",
       "      <td>1007</td>\n",
       "      <td>15.1</td>\n",
       "      <td>0.512</td>\n",
       "      <td>0.016</td>\n",
       "      <td>0.404</td>\n",
       "      <td>10.3</td>\n",
       "      <td>22.5</td>\n",
       "      <td>...</td>\n",
       "      <td>23.1</td>\n",
       "      <td>0.6</td>\n",
       "      <td>1.3</td>\n",
       "      <td>1.9</td>\n",
       "      <td>0.090</td>\n",
       "      <td>-2.1</td>\n",
       "      <td>-0.1</td>\n",
       "      <td>-2.3</td>\n",
       "      <td>-0.1</td>\n",
       "      <td>Center</td>\n",
       "    </tr>\n",
       "    <tr>\n",
       "      <th>1</th>\n",
       "      <td>B.J. Armstrong</td>\n",
       "      <td>32</td>\n",
       "      <td>27</td>\n",
       "      <td>583</td>\n",
       "      <td>10.7</td>\n",
       "      <td>0.510</td>\n",
       "      <td>0.156</td>\n",
       "      <td>0.134</td>\n",
       "      <td>0.4</td>\n",
       "      <td>9.2</td>\n",
       "      <td>...</td>\n",
       "      <td>18.6</td>\n",
       "      <td>0.2</td>\n",
       "      <td>0.2</td>\n",
       "      <td>0.4</td>\n",
       "      <td>0.030</td>\n",
       "      <td>-1.8</td>\n",
       "      <td>-2.0</td>\n",
       "      <td>-3.8</td>\n",
       "      <td>-0.3</td>\n",
       "      <td>Guard</td>\n",
       "    </tr>\n",
       "    <tr>\n",
       "      <th>2</th>\n",
       "      <td>Anthony Avent</td>\n",
       "      <td>30</td>\n",
       "      <td>49</td>\n",
       "      <td>377</td>\n",
       "      <td>5.5</td>\n",
       "      <td>0.368</td>\n",
       "      <td>0.000</td>\n",
       "      <td>0.333</td>\n",
       "      <td>6.6</td>\n",
       "      <td>15.6</td>\n",
       "      <td>...</td>\n",
       "      <td>15.8</td>\n",
       "      <td>-0.7</td>\n",
       "      <td>0.2</td>\n",
       "      <td>-0.5</td>\n",
       "      <td>-0.065</td>\n",
       "      <td>-6.9</td>\n",
       "      <td>-0.5</td>\n",
       "      <td>-7.4</td>\n",
       "      <td>-0.5</td>\n",
       "      <td>Forward</td>\n",
       "    </tr>\n",
       "    <tr>\n",
       "      <th>3</th>\n",
       "      <td>Toby Bailey</td>\n",
       "      <td>24</td>\n",
       "      <td>46</td>\n",
       "      <td>449</td>\n",
       "      <td>10.8</td>\n",
       "      <td>0.483</td>\n",
       "      <td>0.071</td>\n",
       "      <td>0.464</td>\n",
       "      <td>6.6</td>\n",
       "      <td>11.2</td>\n",
       "      <td>...</td>\n",
       "      <td>18.9</td>\n",
       "      <td>0.2</td>\n",
       "      <td>0.6</td>\n",
       "      <td>0.8</td>\n",
       "      <td>0.088</td>\n",
       "      <td>-3.0</td>\n",
       "      <td>-0.1</td>\n",
       "      <td>-3.1</td>\n",
       "      <td>-0.1</td>\n",
       "      <td>Guard</td>\n",
       "    </tr>\n",
       "    <tr>\n",
       "      <th>4</th>\n",
       "      <td>Charles Barkley</td>\n",
       "      <td>36</td>\n",
       "      <td>20</td>\n",
       "      <td>620</td>\n",
       "      <td>19.8</td>\n",
       "      <td>0.534</td>\n",
       "      <td>0.117</td>\n",
       "      <td>0.495</td>\n",
       "      <td>13.1</td>\n",
       "      <td>24.4</td>\n",
       "      <td>...</td>\n",
       "      <td>22.3</td>\n",
       "      <td>1.3</td>\n",
       "      <td>0.6</td>\n",
       "      <td>1.9</td>\n",
       "      <td>0.148</td>\n",
       "      <td>2.6</td>\n",
       "      <td>-0.6</td>\n",
       "      <td>2.0</td>\n",
       "      <td>0.6</td>\n",
       "      <td>Forward</td>\n",
       "    </tr>\n",
       "    <tr>\n",
       "      <th>...</th>\n",
       "      <td>...</td>\n",
       "      <td>...</td>\n",
       "      <td>...</td>\n",
       "      <td>...</td>\n",
       "      <td>...</td>\n",
       "      <td>...</td>\n",
       "      <td>...</td>\n",
       "      <td>...</td>\n",
       "      <td>...</td>\n",
       "      <td>...</td>\n",
       "      <td>...</td>\n",
       "      <td>...</td>\n",
       "      <td>...</td>\n",
       "      <td>...</td>\n",
       "      <td>...</td>\n",
       "      <td>...</td>\n",
       "      <td>...</td>\n",
       "      <td>...</td>\n",
       "      <td>...</td>\n",
       "      <td>...</td>\n",
       "      <td>...</td>\n",
       "    </tr>\n",
       "    <tr>\n",
       "      <th>2332</th>\n",
       "      <td>Thaddeus Young</td>\n",
       "      <td>34</td>\n",
       "      <td>54</td>\n",
       "      <td>795</td>\n",
       "      <td>14.1</td>\n",
       "      <td>0.573</td>\n",
       "      <td>0.172</td>\n",
       "      <td>0.131</td>\n",
       "      <td>9.4</td>\n",
       "      <td>14.6</td>\n",
       "      <td>...</td>\n",
       "      <td>13.5</td>\n",
       "      <td>0.7</td>\n",
       "      <td>1.1</td>\n",
       "      <td>1.8</td>\n",
       "      <td>0.109</td>\n",
       "      <td>-1.8</td>\n",
       "      <td>1.9</td>\n",
       "      <td>0.1</td>\n",
       "      <td>0.4</td>\n",
       "      <td>Forward</td>\n",
       "    </tr>\n",
       "    <tr>\n",
       "      <th>2333</th>\n",
       "      <td>Trae Young</td>\n",
       "      <td>24</td>\n",
       "      <td>73</td>\n",
       "      <td>2541</td>\n",
       "      <td>22.0</td>\n",
       "      <td>0.573</td>\n",
       "      <td>0.331</td>\n",
       "      <td>0.460</td>\n",
       "      <td>2.4</td>\n",
       "      <td>7.0</td>\n",
       "      <td>...</td>\n",
       "      <td>32.6</td>\n",
       "      <td>5.3</td>\n",
       "      <td>1.4</td>\n",
       "      <td>6.7</td>\n",
       "      <td>0.126</td>\n",
       "      <td>5.3</td>\n",
       "      <td>-2.0</td>\n",
       "      <td>3.3</td>\n",
       "      <td>3.4</td>\n",
       "      <td>Guard</td>\n",
       "    </tr>\n",
       "    <tr>\n",
       "      <th>2334</th>\n",
       "      <td>Omer Yurtseven</td>\n",
       "      <td>24</td>\n",
       "      <td>9</td>\n",
       "      <td>83</td>\n",
       "      <td>16.7</td>\n",
       "      <td>0.675</td>\n",
       "      <td>0.259</td>\n",
       "      <td>0.222</td>\n",
       "      <td>10.9</td>\n",
       "      <td>21.9</td>\n",
       "      <td>...</td>\n",
       "      <td>18.0</td>\n",
       "      <td>0.2</td>\n",
       "      <td>0.1</td>\n",
       "      <td>0.3</td>\n",
       "      <td>0.159</td>\n",
       "      <td>-2.5</td>\n",
       "      <td>-1.5</td>\n",
       "      <td>-3.9</td>\n",
       "      <td>0.0</td>\n",
       "      <td>Center</td>\n",
       "    </tr>\n",
       "    <tr>\n",
       "      <th>2335</th>\n",
       "      <td>Cody Zeller</td>\n",
       "      <td>30</td>\n",
       "      <td>15</td>\n",
       "      <td>217</td>\n",
       "      <td>16.4</td>\n",
       "      <td>0.659</td>\n",
       "      <td>0.034</td>\n",
       "      <td>0.593</td>\n",
       "      <td>13.0</td>\n",
       "      <td>21.8</td>\n",
       "      <td>...</td>\n",
       "      <td>18.1</td>\n",
       "      <td>0.4</td>\n",
       "      <td>0.3</td>\n",
       "      <td>0.7</td>\n",
       "      <td>0.147</td>\n",
       "      <td>-2.0</td>\n",
       "      <td>-0.7</td>\n",
       "      <td>-2.8</td>\n",
       "      <td>0.0</td>\n",
       "      <td>Center</td>\n",
       "    </tr>\n",
       "    <tr>\n",
       "      <th>2336</th>\n",
       "      <td>Ivica Zubac</td>\n",
       "      <td>25</td>\n",
       "      <td>76</td>\n",
       "      <td>2170</td>\n",
       "      <td>16.7</td>\n",
       "      <td>0.661</td>\n",
       "      <td>0.004</td>\n",
       "      <td>0.463</td>\n",
       "      <td>12.3</td>\n",
       "      <td>26.5</td>\n",
       "      <td>...</td>\n",
       "      <td>14.8</td>\n",
       "      <td>3.8</td>\n",
       "      <td>2.9</td>\n",
       "      <td>6.7</td>\n",
       "      <td>0.149</td>\n",
       "      <td>-1.1</td>\n",
       "      <td>0.2</td>\n",
       "      <td>-0.9</td>\n",
       "      <td>0.6</td>\n",
       "      <td>Center</td>\n",
       "    </tr>\n",
       "  </tbody>\n",
       "</table>\n",
       "<p>2337 rows × 25 columns</p>\n",
       "</div>"
      ],
      "text/plain": [
       "               Player  Age   G    MP   PER    TS%   3PAr    FTr  ORB%  DRB%  \\\n",
       "0        Chris Anstey   25  73  1007  15.1  0.512  0.016  0.404  10.3  22.5   \n",
       "1      B.J. Armstrong   32  27   583  10.7  0.510  0.156  0.134   0.4   9.2   \n",
       "2       Anthony Avent   30  49   377   5.5  0.368  0.000  0.333   6.6  15.6   \n",
       "3         Toby Bailey   24  46   449  10.8  0.483  0.071  0.464   6.6  11.2   \n",
       "4     Charles Barkley   36  20   620  19.8  0.534  0.117  0.495  13.1  24.4   \n",
       "...               ...  ...  ..   ...   ...    ...    ...    ...   ...   ...   \n",
       "2332   Thaddeus Young   34  54   795  14.1  0.573  0.172  0.131   9.4  14.6   \n",
       "2333       Trae Young   24  73  2541  22.0  0.573  0.331  0.460   2.4   7.0   \n",
       "2334   Omer Yurtseven   24   9    83  16.7  0.675  0.259  0.222  10.9  21.9   \n",
       "2335      Cody Zeller   30  15   217  16.4  0.659  0.034  0.593  13.0  21.8   \n",
       "2336      Ivica Zubac   25  76  2170  16.7  0.661  0.004  0.463  12.3  26.5   \n",
       "\n",
       "      ...  USG%  OWS  DWS   WS  WS/48  OBPM  DBPM  BPM  VORP  Position  \n",
       "0     ...  23.1  0.6  1.3  1.9  0.090  -2.1  -0.1 -2.3  -0.1    Center  \n",
       "1     ...  18.6  0.2  0.2  0.4  0.030  -1.8  -2.0 -3.8  -0.3     Guard  \n",
       "2     ...  15.8 -0.7  0.2 -0.5 -0.065  -6.9  -0.5 -7.4  -0.5   Forward  \n",
       "3     ...  18.9  0.2  0.6  0.8  0.088  -3.0  -0.1 -3.1  -0.1     Guard  \n",
       "4     ...  22.3  1.3  0.6  1.9  0.148   2.6  -0.6  2.0   0.6   Forward  \n",
       "...   ...   ...  ...  ...  ...    ...   ...   ...  ...   ...       ...  \n",
       "2332  ...  13.5  0.7  1.1  1.8  0.109  -1.8   1.9  0.1   0.4   Forward  \n",
       "2333  ...  32.6  5.3  1.4  6.7  0.126   5.3  -2.0  3.3   3.4     Guard  \n",
       "2334  ...  18.0  0.2  0.1  0.3  0.159  -2.5  -1.5 -3.9   0.0    Center  \n",
       "2335  ...  18.1  0.4  0.3  0.7  0.147  -2.0  -0.7 -2.8   0.0    Center  \n",
       "2336  ...  14.8  3.8  2.9  6.7  0.149  -1.1   0.2 -0.9   0.6    Center  \n",
       "\n",
       "[2337 rows x 25 columns]"
      ]
     },
     "execution_count": 113,
     "metadata": {},
     "output_type": "execute_result"
    }
   ],
   "source": [
    "data = pd.read_csv('./../../data/player_seasonal_stats_advanced.csv')\n",
    "data['Position'] = data['Pos'].apply(lambda x: position_mapping(x))\n",
    "data = data[['Player', 'Age', 'G', 'MP', 'PER', 'TS%', '3PAr', 'FTr', 'ORB%', 'DRB%', 'TRB%', 'AST%', 'STL%', 'BLK%', 'TOV%', 'USG%','OWS', 'DWS', 'WS', 'WS/48', 'OBPM', 'DBPM', 'BPM', 'VORP', 'Position']]\n",
    "data['Player'] = data['Player'].apply(lambda x: x.replace('*', ''))\n",
    "print(data.shape[0], 'rows')\n",
    "data = data.drop_duplicates(subset=['Player'], keep='last').reset_index(drop=True)\n",
    "print(data.shape[0], 'rows')\n",
    "data"
   ]
  },
  {
   "cell_type": "code",
   "execution_count": 114,
   "metadata": {},
   "outputs": [
    {
     "name": "stdout",
     "output_type": "stream",
     "text": [
      "(1971, 23) (366, 23) (1971,) (366,)\n"
     ]
    }
   ],
   "source": [
    "players_with_shoes = pd.read_csv('./../../data/player-shoes-data.csv')\n",
    "df_train = data[~data['Player'].isin(players_with_shoes['Player'])]\n",
    "df_test = data[data['Player'].isin(players_with_shoes['Player'])]\n",
    "\n",
    "# fill nan values\n",
    "for col in df_train.columns[1:-1]:\n",
    "    df_train.loc[:,col] = df_train.loc[:,col].fillna(df_train[col].median())\n",
    "    df_test.loc[:,col] = df_test.loc[:,col].fillna(df_test[col].median())\n",
    "    \n",
    "# split into training and test, x and y\n",
    "X_train = df_train.iloc[:,1:-1].values\n",
    "y_train = df_train.iloc[:,-1].values\n",
    "X_test = df_test.iloc[:,1:-1].values\n",
    "y_test = df_test.iloc[:,-1].values\n",
    "\n",
    "# standardize the data\n",
    "scaler = StandardScaler()\n",
    "X_train = scaler.fit_transform(X_train)\n",
    "X_test = scaler.fit_transform(X_test)\n",
    "print(X_train.shape, X_test.shape, y_train.shape, y_test.shape)"
   ]
  },
  {
   "cell_type": "markdown",
   "metadata": {},
   "source": [
    "### K-Nearest Neighbors"
   ]
  },
  {
   "cell_type": "code",
   "execution_count": 115,
   "metadata": {},
   "outputs": [
    {
     "name": "stdout",
     "output_type": "stream",
     "text": [
      "Fitting 10 folds for each of 30 candidates, totalling 300 fits\n",
      "{'n_neighbors': 28}\n"
     ]
    }
   ],
   "source": [
    "knn = KNeighborsClassifier()\n",
    "k_range = list(range(1, 31))\n",
    "param_grid = dict(n_neighbors=k_range)\n",
    "\n",
    "# defining parameter range\n",
    "grid = GridSearchCV(knn, param_grid, cv=10, scoring='accuracy', return_train_score=False,verbose=1)\n",
    "\n",
    "# fitting the model for grid search\n",
    "grid_search=grid.fit(X_train, y_train)\n",
    "print(grid_search.best_params_)"
   ]
  },
  {
   "cell_type": "code",
   "execution_count": 125,
   "metadata": {},
   "outputs": [
    {
     "name": "stdout",
     "output_type": "stream",
     "text": [
      "0.76775956284153\n",
      "              precision    recall  f1-score   support\n",
      "\n",
      "      Center       0.82      0.82      0.82        74\n",
      "       Guard       0.75      0.63      0.69       145\n",
      "     Forward       0.76      0.87      0.81       147\n",
      "\n",
      "    accuracy                           0.77       366\n",
      "   macro avg       0.78      0.78      0.77       366\n",
      "weighted avg       0.77      0.77      0.76       366\n",
      "\n"
     ]
    }
   ],
   "source": [
    "knn = KNeighborsClassifier(n_neighbors=28)\n",
    "knn.fit(X_train, y_train)\n",
    "y_pred_knn = knn.predict(X_test)\n",
    "\n",
    "print(accuracy_score(y_test, y_pred_knn))\n",
    "print(classification_report(y_test, y_pred_knn, target_names=list(data['Position'].unique())))\n"
   ]
  },
  {
   "cell_type": "markdown",
   "metadata": {},
   "source": [
    "### Random Forest"
   ]
  },
  {
   "cell_type": "code",
   "execution_count": 117,
   "metadata": {},
   "outputs": [
    {
     "name": "stdout",
     "output_type": "stream",
     "text": [
      "Fitting 5 folds for each of 90 candidates, totalling 450 fits\n"
     ]
    },
    {
     "data": {
      "text/plain": [
       "{'criterion': 'gini',\n",
       " 'max_depth': 8,\n",
       " 'max_features': 'auto',\n",
       " 'n_estimators': 200}"
      ]
     },
     "execution_count": 117,
     "metadata": {},
     "output_type": "execute_result"
    }
   ],
   "source": [
    "rf=RandomForestClassifier(random_state=42)\n",
    "param_grid = { \n",
    "    'n_estimators': [100, 200, 300],\n",
    "    'max_features': ['auto', 'sqrt', 'log2'],\n",
    "    'max_depth' : [4,5,6,7,8],\n",
    "    'criterion' :['gini', 'entropy']\n",
    "}\n",
    "CV_rf = GridSearchCV(estimator=rf, param_grid=param_grid, cv=5, verbose=1)\n",
    "CV_rf.fit(X_train, y_train)\n",
    "CV_rf.best_params_"
   ]
  },
  {
   "cell_type": "code",
   "execution_count": 126,
   "metadata": {},
   "outputs": [
    {
     "name": "stdout",
     "output_type": "stream",
     "text": [
      "0.7759562841530054\n",
      "              precision    recall  f1-score   support\n",
      "\n",
      "      Center       0.88      0.78      0.83        74\n",
      "       Guard       0.76      0.63      0.69       145\n",
      "     Forward       0.75      0.91      0.82       147\n",
      "\n",
      "    accuracy                           0.78       366\n",
      "   macro avg       0.80      0.78      0.78       366\n",
      "weighted avg       0.78      0.78      0.77       366\n",
      "\n"
     ]
    }
   ],
   "source": [
    "rf = RandomForestClassifier(max_depth=8, criterion='gini', max_features='auto', n_estimators=200, random_state=42)\n",
    "rf.fit(X_train, y_train)    \n",
    "y_pred_rf = rf.predict(X_test)\n",
    "print(accuracy_score(y_test, y_pred_rf))\n",
    "print(classification_report(y_test, y_pred_rf, target_names=list(data['Position'].unique())))"
   ]
  },
  {
   "cell_type": "code",
   "execution_count": 127,
   "metadata": {},
   "outputs": [
    {
     "data": {
      "text/plain": [
       "<Axes: >"
      ]
     },
     "execution_count": 127,
     "metadata": {},
     "output_type": "execute_result"
    },
    {
     "data": {
      "image/png": "[encoded data removed]",
      "text/plain": [
       "<Figure size 640x480 with 1 Axes>"
      ]
     },
     "metadata": {},
     "output_type": "display_data"
    }
   ],
   "source": [
    "feat_importances = pd.Series(rf.feature_importances_, index=df_train.columns[1:-1])\n",
    "feat_importances.nlargest(10).iloc[::-1].plot(kind='barh')"
   ]
  },
  {
   "cell_type": "markdown",
   "metadata": {},
   "source": [
    "### Decision Tree"
   ]
  },
  {
   "cell_type": "code",
   "execution_count": 120,
   "metadata": {},
   "outputs": [
    {
     "name": "stdout",
     "output_type": "stream",
     "text": [
      "Fitting 5 folds for each of 396 candidates, totalling 1980 fits\n"
     ]
    },
    {
     "data": {
      "text/plain": [
       "{'criterion': 'entropy',\n",
       " 'max_depth': 4,\n",
       " 'max_features': 14,\n",
       " 'min_samples_leaf': 1,\n",
       " 'min_samples_split': 1}"
      ]
     },
     "execution_count": 120,
     "metadata": {},
     "output_type": "execute_result"
    }
   ],
   "source": [
    "dt = DecisionTreeClassifier(random_state=42)\n",
    "param_grid = { \n",
    "    'max_depth' : range(1, 10),\n",
    "    'criterion' :['gini', 'entropy'],\n",
    "    'max_features': range(1, X_train.shape[1])\n",
    "}\n",
    "CV_dt = GridSearchCV(estimator=dt, param_grid=param_grid, cv=5, verbose=1)\n",
    "CV_dt.fit(X_train, y_train)\n",
    "best_params = CV_dt.best_params_\n",
    "best_params['min_samples_leaf'] = 1\n",
    "best_params['min_samples_split'] = 1\n",
    "best_params"
   ]
  },
  {
   "cell_type": "code",
   "execution_count": 128,
   "metadata": {},
   "outputs": [
    {
     "name": "stdout",
     "output_type": "stream",
     "text": [
      "0.7540983606557377\n",
      "              precision    recall  f1-score   support\n",
      "\n",
      "      Center       0.79      0.72      0.75        74\n",
      "       Guard       0.73      0.62      0.67       145\n",
      "     Forward       0.76      0.90      0.82       147\n",
      "\n",
      "    accuracy                           0.75       366\n",
      "   macro avg       0.76      0.75      0.75       366\n",
      "weighted avg       0.75      0.75      0.75       366\n",
      "\n"
     ]
    }
   ],
   "source": [
    "dt = DecisionTreeClassifier(criterion='entropy', max_depth=4, min_samples_leaf=1, min_samples_split=1, max_features=14, random_state=42)\n",
    "dt.fit(X_train, y_train)\n",
    "y_pred_dt = dt.predict(X_test)\n",
    "print(accuracy_score(y_test, y_pred_dt))\n",
    "print(classification_report(y_test, y_pred_dt, target_names=list(data['Position'].unique())))"
   ]
  },
  {
   "cell_type": "markdown",
   "metadata": {},
   "source": [
    "### Logistic Regression"
   ]
  },
  {
   "cell_type": "code",
   "execution_count": 123,
   "metadata": {},
   "outputs": [
    {
     "name": "stdout",
     "output_type": "stream",
     "text": [
      "Fitting 5 folds for each of 42 candidates, totalling 210 fits\n"
     ]
    },
    {
     "data": {
      "text/plain": [
       "{'C': 100.0, 'penalty': 'l2', 'solver': 'newton-cg'}"
      ]
     },
     "execution_count": 123,
     "metadata": {},
     "output_type": "execute_result"
    }
   ],
   "source": [
    "clf = LogisticRegression(random_state=42, multi_class='multinomial')\n",
    "param_grid = {\n",
    "    'penalty' : ['l1','l2'], \n",
    "    'C'       : np.logspace(-3,3,7),\n",
    "    'solver'  : ['newton-cg', 'lbfgs', 'liblinear'],\n",
    "}\n",
    "CV_lr = GridSearchCV(estimator=clf, param_grid=param_grid, cv=5, verbose=1)\n",
    "CV_lr.fit(X_train, y_train)\n",
    "CV_lr.best_params_"
   ]
  },
  {
   "cell_type": "code",
   "execution_count": 129,
   "metadata": {},
   "outputs": [
    {
     "name": "stdout",
     "output_type": "stream",
     "text": [
      "0.7513661202185792\n",
      "              precision    recall  f1-score   support\n",
      "\n",
      "      Center       0.83      0.81      0.82        74\n",
      "       Guard       0.72      0.63      0.67       145\n",
      "     Forward       0.74      0.84      0.79       147\n",
      "\n",
      "    accuracy                           0.75       366\n",
      "   macro avg       0.76      0.76      0.76       366\n",
      "weighted avg       0.75      0.75      0.75       366\n",
      "\n"
     ]
    }
   ],
   "source": [
    "clf = LogisticRegression(random_state=42, multi_class='multinomial', solver='newton-cg', penalty='l2', C=100)\n",
    "clf.fit(X_train, y_train)\n",
    "y_pred_lr = clf.predict(X_test)\n",
    "print(accuracy_score(y_test, y_pred_lr))\n",
    "print(classification_report(y_test, y_pred_lr, target_names=list(data['Position'].unique())))"
   ]
  },
  {
   "cell_type": "code",
   "execution_count": 130,
   "metadata": {},
   "outputs": [
    {
     "data": {
      "text/plain": [
       "<sklearn.metrics._plot.confusion_matrix.ConfusionMatrixDisplay at 0x282074430>"
      ]
     },
     "execution_count": 130,
     "metadata": {},
     "output_type": "execute_result"
    },
    {
     "data": {
      "image/png": "[encoded data removed]",
      "text/plain": [
       "<Figure size 640x480 with 2 Axes>"
      ]
     },
     "metadata": {},
     "output_type": "display_data"
    }
   ],
   "source": [
    "from sklearn.metrics import confusion_matrix, ConfusionMatrixDisplay\n",
    "ConfusionMatrixDisplay(confusion_matrix(y_test, y_pred_rf)).plot()"
   ]
  },
  {
   "cell_type": "code",
   "execution_count": null,
   "metadata": {},
   "outputs": [],
   "source": []
  }
 ],
 "metadata": {
  "kernelspec": {
   "display_name": "Python 3.8.9 64-bit",
   "language": "python",
   "name": "python3"
  },
  "language_info": {
   "codemirror_mode": {
    "name": "ipython",
    "version": 3
   },
   "file_extension": ".py",
   "mimetype": "text/x-python",
   "name": "python",
   "nbconvert_exporter": "python",
   "pygments_lexer": "ipython3",
   "version": "3.8.9"
  },
  "orig_nbformat": 4,
  "vscode": {
   "interpreter": {
    "hash": "31f2aee4e71d21fbe5cf8b01ff0e069b9275f58929596ceb00d14d90e3e16cd6"
   }
  }
 },
 "nbformat": 4,
 "nbformat_minor": 2
}
