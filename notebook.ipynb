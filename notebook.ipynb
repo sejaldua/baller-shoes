{
 "cells": [
  {
   "cell_type": "code",
   "execution_count": 2,
   "metadata": {},
   "outputs": [],
   "source": [
    "import requests\n",
    "import urllib.request\n",
    "import time\n",
    "from bs4 import BeautifulSoup\n",
    "import numpy as np\n",
    "import pandas as pd\n",
    "import requests\n",
    "from tqdm import tqdm, tqdm_pandas\n",
    "import matplotlib.pyplot as plt\n",
    "\n",
    "tqdm.pandas()\n",
    "\n",
    "url = 'https://ballershoesdb.com/shoes/'\n",
    "page = requests.get(url)\n",
    "html_contents = page.text\n",
    "soup = BeautifulSoup(html_contents, 'html.parser')"
   ]
  },
  {
   "cell_type": "code",
   "execution_count": 18,
   "metadata": {},
   "outputs": [
    {
     "name": "stdout",
     "output_type": "stream",
     "text": [
      "1 361 AG1 <img alt=\"\" class=\"attachment-single-shoes size-single-shoes wp-post-image\" data-lazy-sizes=\"(max-width: 400px) 100vw, 400px\" data-lazy-src=\"https://cdn.ballershoesdb.com/wp-content/uploads/361AG1-Cropped-400x250.jpg\" data-lazy-srcset=\"https://cdn.ballershoesdb.com/wp-content/uploads/361AG1-Cropped-400x250.jpg 400w, https://cdn.ballershoesdb.com/wp-content/uploads/361AG1-Cropped-300x188.jpg 300w, https://cdn.ballershoesdb.com/wp-content/uploads/361AG1-Cropped-280x175.jpg 280w, https://cdn.ballershoesdb.com/wp-content/uploads/361AG1-Cropped-500x313.jpg 500w, https://cdn.ballershoesdb.com/wp-content/uploads/361AG1-Cropped-265x165.jpg 265w, https://cdn.ballershoesdb.com/wp-content/uploads/361AG1-Cropped.jpg 550w\" decoding=\"async\" height=\"250\" src=\"data:image/svg+xml,%3Csvg%20xmlns='http://www.w3.org/2000/svg'%20viewBox='0%200%20400%20250'%3E%3C/svg%3E\" width=\"400\"><noscript><img alt=\"\" class=\"attachment-single-shoes size-single-shoes wp-post-image\" decoding=\"async\" height=\"250\" sizes=\"(max-width: 400px) 100vw, 400px\" src=\"https://cdn.ballershoesdb.com/wp-content/uploads/361AG1-Cropped-400x250.jpg\" srcset=\"https://cdn.ballershoesdb.com/wp-content/uploads/361AG1-Cropped-400x250.jpg 400w, https://cdn.ballershoesdb.com/wp-content/uploads/361AG1-Cropped-300x188.jpg 300w, https://cdn.ballershoesdb.com/wp-content/uploads/361AG1-Cropped-280x175.jpg 280w, https://cdn.ballershoesdb.com/wp-content/uploads/361AG1-Cropped-500x313.jpg 500w, https://cdn.ballershoesdb.com/wp-content/uploads/361AG1-Cropped-265x165.jpg 265w, https://cdn.ballershoesdb.com/wp-content/uploads/361AG1-Cropped.jpg 550w\" width=\"400\"/></noscript></img>\n",
      "361 Big 3 <img alt=\"\" class=\"attachment-single-shoes size-single-shoes wp-post-image\" data-lazy-sizes=\"(max-width: 400px) 100vw, 400px\" data-lazy-src=\"https://cdn.ballershoesdb.com/wp-content/uploads/2020/02/361Big3-Cropped-400x250.jpg\" data-lazy-srcset=\"https://cdn.ballershoesdb.com/wp-content/uploads/2020/02/361Big3-Cropped-400x250.jpg 400w, https://cdn.ballershoesdb.com/wp-content/uploads/2020/02/361Big3-Cropped-300x188.jpg 300w, https://cdn.ballershoesdb.com/wp-content/uploads/2020/02/361Big3-Cropped-280x175.jpg 280w, https://cdn.ballershoesdb.com/wp-content/uploads/2020/02/361Big3-Cropped-500x313.jpg 500w, https://cdn.ballershoesdb.com/wp-content/uploads/2020/02/361Big3-Cropped-265x165.jpg 265w, https://cdn.ballershoesdb.com/wp-content/uploads/2020/02/361Big3-Cropped.jpg 550w\" decoding=\"async\" height=\"250\" src=\"data:image/svg+xml,%3Csvg%20xmlns='http://www.w3.org/2000/svg'%20viewBox='0%200%20400%20250'%3E%3C/svg%3E\" width=\"400\"/>\n",
      "361 DVD/SD 1 <img alt=\"\" class=\"attachment-single-shoes size-single-shoes wp-post-image\" data-lazy-sizes=\"(max-width: 400px) 100vw, 400px\" data-lazy-src=\"https://cdn.ballershoesdb.com/wp-content/uploads/361DVD1SD1-Cropped-400x250.jpg\" data-lazy-srcset=\"https://cdn.ballershoesdb.com/wp-content/uploads/361DVD1SD1-Cropped-400x250.jpg 400w, https://cdn.ballershoesdb.com/wp-content/uploads/361DVD1SD1-Cropped-300x187.jpg 300w, https://cdn.ballershoesdb.com/wp-content/uploads/361DVD1SD1-Cropped-280x175.jpg 280w, https://cdn.ballershoesdb.com/wp-content/uploads/361DVD1SD1-Cropped-265x165.jpg 265w, https://cdn.ballershoesdb.com/wp-content/uploads/361DVD1SD1-Cropped.jpg 450w\" decoding=\"async\" height=\"250\" src=\"data:image/svg+xml,%3Csvg%20xmlns='http://www.w3.org/2000/svg'%20viewBox='0%200%20400%20250'%3E%3C/svg%3E\" width=\"400\"/>\n",
      "361 Jing Feng <img alt=\"\" class=\"attachment-single-shoes size-single-shoes wp-post-image\" data-lazy-sizes=\"(max-width: 400px) 100vw, 400px\" data-lazy-src=\"https://cdn.ballershoesdb.com/wp-content/uploads/2017/09/361jingfeng-Cropped-400x250.jpg\" data-lazy-srcset=\"https://cdn.ballershoesdb.com/wp-content/uploads/2017/09/361jingfeng-Cropped-400x250.jpg 400w, https://cdn.ballershoesdb.com/wp-content/uploads/2017/09/361jingfeng-Cropped-300x188.jpg 300w, https://cdn.ballershoesdb.com/wp-content/uploads/2017/09/361jingfeng-Cropped-768x480.jpg 768w, https://cdn.ballershoesdb.com/wp-content/uploads/2017/09/361jingfeng-Cropped-280x175.jpg 280w, https://cdn.ballershoesdb.com/wp-content/uploads/2017/09/361jingfeng-Cropped-500x313.jpg 500w, https://cdn.ballershoesdb.com/wp-content/uploads/2017/09/361jingfeng-Cropped-265x165.jpg 265w, https://cdn.ballershoesdb.com/wp-content/uploads/2017/09/361jingfeng-Cropped.jpg 800w\" decoding=\"async\" height=\"250\" src=\"data:image/svg+xml,%3Csvg%20xmlns='http://www.w3.org/2000/svg'%20viewBox='0%200%20400%20250'%3E%3C/svg%3E\" width=\"400\"/>\n",
      "Adidas adiPower Weightlifting 2 <img alt=\"Adidas adiPower Weightlifting 2\" class=\"attachment-single-shoes size-single-shoes wp-post-image\" data-lazy-sizes=\"(max-width: 400px) 100vw, 400px\" data-lazy-src=\"https://cdn.ballershoesdb.com/wp-content/uploads/2020/01/Adidas-adiPower-Weightlifting-2-400x250.jpg\" data-lazy-srcset=\"https://cdn.ballershoesdb.com/wp-content/uploads/2020/01/Adidas-adiPower-Weightlifting-2-400x250.jpg 400w, https://cdn.ballershoesdb.com/wp-content/uploads/2020/01/Adidas-adiPower-Weightlifting-2-300x188.jpg 300w, https://cdn.ballershoesdb.com/wp-content/uploads/2020/01/Adidas-adiPower-Weightlifting-2-768x480.jpg 768w, https://cdn.ballershoesdb.com/wp-content/uploads/2020/01/Adidas-adiPower-Weightlifting-2-280x175.jpg 280w, https://cdn.ballershoesdb.com/wp-content/uploads/2020/01/Adidas-adiPower-Weightlifting-2-500x313.jpg 500w, https://cdn.ballershoesdb.com/wp-content/uploads/2020/01/Adidas-adiPower-Weightlifting-2-650x406.jpg 650w, https://cdn.ballershoesdb.com/wp-content/uploads/2020/01/Adidas-adiPower-Weightlifting-2-265x165.jpg 265w, https://cdn.ballershoesdb.com/wp-content/uploads/2020/01/Adidas-adiPower-Weightlifting-2.jpg 800w\" decoding=\"async\" height=\"250\" src=\"data:image/svg+xml,%3Csvg%20xmlns='http://www.w3.org/2000/svg'%20viewBox='0%200%20400%20250'%3E%3C/svg%3E\" width=\"400\"/>\n",
      "Adidas adiZero Rose 1 <img alt=\"\" class=\"attachment-single-shoes size-single-shoes wp-post-image\" data-lazy-sizes=\"(max-width: 400px) 100vw, 400px\" data-lazy-src=\"https://cdn.ballershoesdb.com/wp-content/uploads/2017/02/adizero1-Cropped-400x250.jpg\" data-lazy-srcset=\"https://cdn.ballershoesdb.com/wp-content/uploads/2017/02/adizero1-Cropped-400x250.jpg 400w, https://cdn.ballershoesdb.com/wp-content/uploads/2017/02/adizero1-Cropped-300x188.jpg 300w, https://cdn.ballershoesdb.com/wp-content/uploads/2017/02/adizero1-Cropped-768x480.jpg 768w, https://cdn.ballershoesdb.com/wp-content/uploads/2017/02/adizero1-Cropped-280x175.jpg 280w, https://cdn.ballershoesdb.com/wp-content/uploads/2017/02/adizero1-Cropped-500x313.jpg 500w, https://cdn.ballershoesdb.com/wp-content/uploads/2017/02/adizero1-Cropped-265x165.jpg 265w, https://cdn.ballershoesdb.com/wp-content/uploads/2017/02/adizero1-Cropped.jpg 800w\" decoding=\"async\" height=\"250\" src=\"data:image/svg+xml,%3Csvg%20xmlns='http://www.w3.org/2000/svg'%20viewBox='0%200%20400%20250'%3E%3C/svg%3E\" width=\"400\"/>\n",
      "Adidas adiZero Rose 1.5 <img alt=\"\" class=\"attachment-single-shoes size-single-shoes wp-post-image\" data-lazy-sizes=\"(max-width: 400px) 100vw, 400px\" data-lazy-src=\"https://cdn.ballershoesdb.com/wp-content/uploads/2017/02/adizero1.5-Cropped-400x250.jpg\" data-lazy-srcset=\"https://cdn.ballershoesdb.com/wp-content/uploads/2017/02/adizero1.5-Cropped-400x250.jpg 400w, https://cdn.ballershoesdb.com/wp-content/uploads/2017/02/adizero1.5-Cropped-300x188.jpg 300w, https://cdn.ballershoesdb.com/wp-content/uploads/2017/02/adizero1.5-Cropped-280x175.jpg 280w, https://cdn.ballershoesdb.com/wp-content/uploads/2017/02/adizero1.5-Cropped-500x313.jpg 500w, https://cdn.ballershoesdb.com/wp-content/uploads/2017/02/adizero1.5-Cropped-265x165.jpg 265w, https://cdn.ballershoesdb.com/wp-content/uploads/2017/02/adizero1.5-Cropped.jpg 640w\" decoding=\"async\" height=\"250\" src=\"data:image/svg+xml,%3Csvg%20xmlns='http://www.w3.org/2000/svg'%20viewBox='0%200%20400%20250'%3E%3C/svg%3E\" width=\"400\"/>\n",
      "Adidas adiZero Rose 2 <img alt=\"\" class=\"attachment-single-shoes size-single-shoes wp-post-image\" data-lazy-sizes=\"(max-width: 400px) 100vw, 400px\" data-lazy-src=\"https://cdn.ballershoesdb.com/wp-content/uploads/2017/02/adizero2-Cropped-400x250.jpg\" data-lazy-srcset=\"https://cdn.ballershoesdb.com/wp-content/uploads/2017/02/adizero2-Cropped-400x250.jpg 400w, https://cdn.ballershoesdb.com/wp-content/uploads/2017/02/adizero2-Cropped-300x187.jpg 300w, https://cdn.ballershoesdb.com/wp-content/uploads/2017/02/adizero2-Cropped-280x175.jpg 280w, https://cdn.ballershoesdb.com/wp-content/uploads/2017/02/adizero2-Cropped-500x312.jpg 500w, https://cdn.ballershoesdb.com/wp-content/uploads/2017/02/adizero2-Cropped-265x165.jpg 265w, https://cdn.ballershoesdb.com/wp-content/uploads/2017/02/adizero2-Cropped.jpg 757w\" decoding=\"async\" height=\"250\" src=\"data:image/svg+xml,%3Csvg%20xmlns='http://www.w3.org/2000/svg'%20viewBox='0%200%20400%20250'%3E%3C/svg%3E\" width=\"400\"/>\n",
      "Adidas adiZero Rose 2.5 <img alt=\"\" class=\"attachment-single-shoes size-single-shoes wp-post-image\" data-lazy-sizes=\"(max-width: 400px) 100vw, 400px\" data-lazy-src=\"https://cdn.ballershoesdb.com/wp-content/uploads/2017/02/adizero2.5-400x250.jpg\" data-lazy-srcset=\"https://cdn.ballershoesdb.com/wp-content/uploads/2017/02/adizero2.5-400x250.jpg 400w, https://cdn.ballershoesdb.com/wp-content/uploads/2017/02/adizero2.5-300x188.jpg 300w, https://cdn.ballershoesdb.com/wp-content/uploads/2017/02/adizero2.5-768x480.jpg 768w, https://cdn.ballershoesdb.com/wp-content/uploads/2017/02/adizero2.5-280x175.jpg 280w, https://cdn.ballershoesdb.com/wp-content/uploads/2017/02/adizero2.5-500x313.jpg 500w, https://cdn.ballershoesdb.com/wp-content/uploads/2017/02/adizero2.5-265x165.jpg 265w, https://cdn.ballershoesdb.com/wp-content/uploads/2017/02/adizero2.5.jpg 800w\" decoding=\"async\" height=\"250\" src=\"data:image/svg+xml,%3Csvg%20xmlns='http://www.w3.org/2000/svg'%20viewBox='0%200%20400%20250'%3E%3C/svg%3E\" width=\"400\"/>\n",
      "Adidas Adizero Select <img alt=\"\" class=\"attachment-single-shoes size-single-shoes wp-post-image\" data-lazy-sizes=\"(max-width: 400px) 100vw, 400px\" data-lazy-src=\"https://cdn.ballershoesdb.com/wp-content/uploads/318136870_659629429139724_2606265634392350740_n-Cropped-400x250.jpg\" data-lazy-srcset=\"https://cdn.ballershoesdb.com/wp-content/uploads/318136870_659629429139724_2606265634392350740_n-Cropped-400x250.jpg 400w, https://cdn.ballershoesdb.com/wp-content/uploads/318136870_659629429139724_2606265634392350740_n-Cropped-300x188.jpg 300w, https://cdn.ballershoesdb.com/wp-content/uploads/318136870_659629429139724_2606265634392350740_n-Cropped-768x480.jpg 768w, https://cdn.ballershoesdb.com/wp-content/uploads/318136870_659629429139724_2606265634392350740_n-Cropped-280x175.jpg 280w, https://cdn.ballershoesdb.com/wp-content/uploads/318136870_659629429139724_2606265634392350740_n-Cropped-500x313.jpg 500w, https://cdn.ballershoesdb.com/wp-content/uploads/318136870_659629429139724_2606265634392350740_n-Cropped-650x406.jpg 650w, https://cdn.ballershoesdb.com/wp-content/uploads/318136870_659629429139724_2606265634392350740_n-Cropped-265x165.jpg 265w, https://cdn.ballershoesdb.com/wp-content/uploads/318136870_659629429139724_2606265634392350740_n-Cropped.jpg 1008w\" decoding=\"async\" height=\"250\" src=\"data:image/svg+xml,%3Csvg%20xmlns='http://www.w3.org/2000/svg'%20viewBox='0%200%20400%20250'%3E%3C/svg%3E\" width=\"400\"/>\n",
      "Adidas Agent Gil Restomod <img alt=\"\" class=\"attachment-single-shoes size-single-shoes wp-post-image\" data-lazy-sizes=\"(max-width: 400px) 100vw, 400px\" data-lazy-src=\"https://cdn.ballershoesdb.com/wp-content/uploads/AdidasAgentGil-Cropped-400x250.jpg\" data-lazy-srcset=\"https://cdn.ballershoesdb.com/wp-content/uploads/AdidasAgentGil-Cropped-400x250.jpg 400w, https://cdn.ballershoesdb.com/wp-content/uploads/AdidasAgentGil-Cropped-300x188.jpg 300w, https://cdn.ballershoesdb.com/wp-content/uploads/AdidasAgentGil-Cropped-280x175.jpg 280w, https://cdn.ballershoesdb.com/wp-content/uploads/AdidasAgentGil-Cropped-265x165.jpg 265w, https://cdn.ballershoesdb.com/wp-content/uploads/AdidasAgentGil-Cropped.jpg 467w\" decoding=\"async\" height=\"250\" src=\"data:image/svg+xml,%3Csvg%20xmlns='http://www.w3.org/2000/svg'%20viewBox='0%200%20400%20250'%3E%3C/svg%3E\" width=\"400\"/>\n",
      "Adidas BYW Select <img alt=\"\" class=\"attachment-single-shoes size-single-shoes wp-post-image\" data-lazy-sizes=\"(max-width: 400px) 100vw, 400px\" data-lazy-src=\"https://cdn.ballershoesdb.com/wp-content/uploads/317707331_5615356608499342_8745947898930044620_n-Cropped-400x250.jpg\" data-lazy-srcset=\"https://cdn.ballershoesdb.com/wp-content/uploads/317707331_5615356608499342_8745947898930044620_n-Cropped-400x250.jpg 400w, https://cdn.ballershoesdb.com/wp-content/uploads/317707331_5615356608499342_8745947898930044620_n-Cropped-300x188.jpg 300w, https://cdn.ballershoesdb.com/wp-content/uploads/317707331_5615356608499342_8745947898930044620_n-Cropped-1024x640.jpg 1024w, https://cdn.ballershoesdb.com/wp-content/uploads/317707331_5615356608499342_8745947898930044620_n-Cropped-768x480.jpg 768w, https://cdn.ballershoesdb.com/wp-content/uploads/317707331_5615356608499342_8745947898930044620_n-Cropped-280x175.jpg 280w, https://cdn.ballershoesdb.com/wp-content/uploads/317707331_5615356608499342_8745947898930044620_n-Cropped-500x313.jpg 500w, https://cdn.ballershoesdb.com/wp-content/uploads/317707331_5615356608499342_8745947898930044620_n-Cropped-650x406.jpg 650w, https://cdn.ballershoesdb.com/wp-content/uploads/317707331_5615356608499342_8745947898930044620_n-Cropped-265x165.jpg 265w, https://cdn.ballershoesdb.com/wp-content/uploads/317707331_5615356608499342_8745947898930044620_n-Cropped.jpg 1035w\" decoding=\"async\" height=\"250\" src=\"data:image/svg+xml,%3Csvg%20xmlns='http://www.w3.org/2000/svg'%20viewBox='0%200%20400%20250'%3E%3C/svg%3E\" width=\"400\"/>\n",
      "Adidas Crazy 8 <img alt=\"\" class=\"attachment-single-shoes size-single-shoes wp-post-image\" data-lazy-sizes=\"(max-width: 400px) 100vw, 400px\" data-lazy-src=\"https://cdn.ballershoesdb.com/wp-content/uploads/2017/05/crazyeight-Cropped-400x250.jpg\" data-lazy-srcset=\"https://cdn.ballershoesdb.com/wp-content/uploads/2017/05/crazyeight-Cropped-400x250.jpg 400w, https://cdn.ballershoesdb.com/wp-content/uploads/2017/05/crazyeight-Cropped-300x188.jpg 300w, https://cdn.ballershoesdb.com/wp-content/uploads/2017/05/crazyeight-Cropped-768x480.jpg 768w, https://cdn.ballershoesdb.com/wp-content/uploads/2017/05/crazyeight-Cropped-280x175.jpg 280w, https://cdn.ballershoesdb.com/wp-content/uploads/2017/05/crazyeight-Cropped-500x313.jpg 500w, https://cdn.ballershoesdb.com/wp-content/uploads/2017/05/crazyeight-Cropped-265x165.jpg 265w, https://cdn.ballershoesdb.com/wp-content/uploads/2017/05/crazyeight-Cropped.jpg 800w\" decoding=\"async\" height=\"250\" src=\"data:image/svg+xml,%3Csvg%20xmlns='http://www.w3.org/2000/svg'%20viewBox='0%200%20400%20250'%3E%3C/svg%3E\" width=\"400\"/>\n",
      "Adidas Crazy Bounce <img alt=\"Adidas Crazy Bounce\" class=\"attachment-single-shoes size-single-shoes wp-post-image\" data-lazy-sizes=\"(max-width: 400px) 100vw, 400px\" data-lazy-src=\"https://cdn.ballershoesdb.com/wp-content/uploads/2017/01/Adidas-Crazy-Bounce-400x250.jpg\" data-lazy-srcset=\"https://cdn.ballershoesdb.com/wp-content/uploads/2017/01/Adidas-Crazy-Bounce-400x250.jpg 400w, https://cdn.ballershoesdb.com/wp-content/uploads/2017/01/Adidas-Crazy-Bounce-300x188.jpg 300w, https://cdn.ballershoesdb.com/wp-content/uploads/2017/01/Adidas-Crazy-Bounce-768x480.jpg 768w, https://cdn.ballershoesdb.com/wp-content/uploads/2017/01/Adidas-Crazy-Bounce-280x175.jpg 280w, https://cdn.ballershoesdb.com/wp-content/uploads/2017/01/Adidas-Crazy-Bounce-500x313.jpg 500w, https://cdn.ballershoesdb.com/wp-content/uploads/2017/01/Adidas-Crazy-Bounce-265x165.jpg 265w, https://cdn.ballershoesdb.com/wp-content/uploads/2017/01/Adidas-Crazy-Bounce.jpg 944w\" decoding=\"async\" height=\"250\" src=\"data:image/svg+xml,%3Csvg%20xmlns='http://www.w3.org/2000/svg'%20viewBox='0%200%20400%20250'%3E%3C/svg%3E\" width=\"400\"/>\n",
      "Adidas Crazy BYW <img alt=\"\" class=\"attachment-single-shoes size-single-shoes wp-post-image\" data-lazy-sizes=\"(max-width: 400px) 100vw, 400px\" data-lazy-src=\"https://cdn.ballershoesdb.com/wp-content/uploads/2018/03/adidas-crazy-byw-Cropped-1-400x250.jpg\" data-lazy-srcset=\"https://cdn.ballershoesdb.com/wp-content/uploads/2018/03/adidas-crazy-byw-Cropped-1-400x250.jpg 400w, https://cdn.ballershoesdb.com/wp-content/uploads/2018/03/adidas-crazy-byw-Cropped-1-300x187.jpg 300w, https://cdn.ballershoesdb.com/wp-content/uploads/2018/03/adidas-crazy-byw-Cropped-1-280x175.jpg 280w, https://cdn.ballershoesdb.com/wp-content/uploads/2018/03/adidas-crazy-byw-Cropped-1-500x312.jpg 500w, https://cdn.ballershoesdb.com/wp-content/uploads/2018/03/adidas-crazy-byw-Cropped-1-265x165.jpg 265w, https://cdn.ballershoesdb.com/wp-content/uploads/2018/03/adidas-crazy-byw-Cropped-1.jpg 605w\" decoding=\"async\" height=\"250\" src=\"data:image/svg+xml,%3Csvg%20xmlns='http://www.w3.org/2000/svg'%20viewBox='0%200%20400%20250'%3E%3C/svg%3E\" width=\"400\"/>\n"
     ]
    }
   ],
   "source": [
    "for i in range(1, 40):\n",
    "    print(i, end=\" \")\n",
    "    url = f\"https://ballershoesdb.com/shoes/page/{i}/\"\n",
    "    page = requests.get(url)\n",
    "    html_contents = page.text\n",
    "    soup = BeautifulSoup(html_contents, 'html.parser')\n",
    "    shoes = soup.find_all('div', class_='item-inside')\n",
    "    for shoe in shoes:\n",
    "        img = shoe.find(\"img\", alt_=\"\")\n",
    "        name = shoe.find(\"h3\").find(\"a\").getText()\n",
    "        print(name, img)\n",
    "        # break\n",
    "    break"
   ]
  },
  {
   "cell_type": "code",
   "execution_count": null,
   "metadata": {},
   "outputs": [],
   "source": []
  }
 ],
 "metadata": {
  "interpreter": {
   "hash": "a665b5d41d17b532ea9890333293a1b812fa0b73c9c25c950b3cedf1bebd0438"
  },
  "kernelspec": {
   "display_name": "Python 3.9.16 64-bit",
   "language": "python",
   "name": "python3"
  },
  "language_info": {
   "codemirror_mode": {
    "name": "ipython",
    "version": 3
   },
   "file_extension": ".py",
   "mimetype": "text/x-python",
   "name": "python",
   "nbconvert_exporter": "python",
   "pygments_lexer": "ipython3",
   "version": "3.9.17"
  },
  "orig_nbformat": 4
 },
 "nbformat": 4,
 "nbformat_minor": 2
}
