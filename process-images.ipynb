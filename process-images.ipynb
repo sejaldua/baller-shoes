{
 "cells": [
  {
   "cell_type": "code",
   "execution_count": 12,
   "metadata": {},
   "outputs": [],
   "source": [
    "%%capture\n",
    "!python3.9 -m pip install rembg"
   ]
  },
  {
   "cell_type": "code",
   "execution_count": 1,
   "metadata": {},
   "outputs": [
    {
     "name": "stdout",
     "output_type": "stream",
     "text": [
      "There are 565 images in ./shoe_images.\n"
     ]
    }
   ],
   "source": [
    "import os\n",
    "\n",
    "def count_images(directory):\n",
    "  \"\"\"Counts the number of images in a directory.\n",
    "\n",
    "  Args:\n",
    "    directory: The path to the directory to count images in.\n",
    "\n",
    "  Returns:\n",
    "    The number of images in the directory.\n",
    "  \"\"\"\n",
    "  image_count = 0\n",
    "  for file in os.listdir(directory):\n",
    "    if file.endswith(\".jpg\") or file.endswith(\".jpeg\") or file.endswith(\".png\"):\n",
    "      image_count += 1\n",
    "  return image_count\n",
    "\n",
    "directory = \"./shoe_images\"\n",
    "image_count = count_images(directory)\n",
    "print(\"There are {} images in {}.\".format(image_count, directory))"
   ]
  },
  {
   "cell_type": "code",
   "execution_count": 2,
   "metadata": {},
   "outputs": [
    {
     "name": "stderr",
     "output_type": "stream",
     "text": [
      " 23%|██▎       | 131/581 [02:08<08:21,  1.11s/it]/opt/homebrew/lib/python3.9/site-packages/PIL/Image.py:959: UserWarning: Palette images with Transparency expressed in bytes should be converted to RGBA images\n",
      "  warnings.warn(\n",
      "100%|██████████| 581/581 [09:29<00:00,  1.02it/s]\n"
     ]
    }
   ],
   "source": [
    "from rembg import remove\n",
    "from PIL import Image\n",
    "from tqdm import tqdm\n",
    "\n",
    "for i in tqdm(range(1, 582)):\n",
    "    try:\n",
    "        input_path = f'./shoe_images/shoe_{i}.jpg'\n",
    "        output_path = f'./cleaned_images/shoe_{i}.png'\n",
    "        output2_path = f'./cleaned_images/shoe_{i}_flipped.png'\n",
    "        input_img = Image.open(input_path)\n",
    "        output = remove(input_img)\n",
    "        flipped_img = output.transpose(method=Image.Transpose.FLIP_LEFT_RIGHT)\n",
    "        output.save(output_path)\n",
    "        flipped_img.save(output2_path)\n",
    "    except:\n",
    "        continue"
   ]
  },
  {
   "cell_type": "code",
   "execution_count": null,
   "metadata": {},
   "outputs": [],
   "source": []
  }
 ],
 "metadata": {
  "interpreter": {
   "hash": "a665b5d41d17b532ea9890333293a1b812fa0b73c9c25c950b3cedf1bebd0438"
  },
  "kernelspec": {
   "display_name": "Python 3.9.17 64-bit",
   "language": "python",
   "name": "python3"
  },
  "language_info": {
   "codemirror_mode": {
    "name": "ipython",
    "version": 3
   },
   "file_extension": ".py",
   "mimetype": "text/x-python",
   "name": "python",
   "nbconvert_exporter": "python",
   "pygments_lexer": "ipython3",
   "version": "3.9.17"
  },
  "orig_nbformat": 4
 },
 "nbformat": 4,
 "nbformat_minor": 2
}
