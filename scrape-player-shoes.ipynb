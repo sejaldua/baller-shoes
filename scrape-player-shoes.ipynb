{
 "cells": [
  {
   "cell_type": "code",
   "execution_count": 1,
   "metadata": {},
   "outputs": [],
   "source": [
    "import requests\n",
    "import urllib.request\n",
    "import time\n",
    "from bs4 import BeautifulSoup\n",
    "import numpy as np\n",
    "import pandas as pd\n",
    "import requests\n",
    "from tqdm import tqdm, tqdm_pandas\n",
    "import matplotlib.pyplot as plt\n",
    "\n",
    "tqdm.pandas()\n",
    "\n",
    "url = 'https://ballershoesdb.com/players/'\n",
    "page = requests.get(url)\n",
    "html_contents = page.text\n",
    "soup = BeautifulSoup(html_contents, 'html.parser')"
   ]
  },
  {
   "cell_type": "code",
   "execution_count": 7,
   "metadata": {},
   "outputs": [
    {
     "name": "stdout",
     "output_type": "stream",
     "text": [
      "1 2 3 4 5 6 7 8 9 10 11 12 13 14 15 16 17 18 19 20 21 22 23 24 25 26 27 28 "
     ]
    }
   ],
   "source": [
    "urls = ['https://ballershoesdb.com/players/']\n",
    "for i in range(1, 40):\n",
    "    print(i, end=\" \")\n",
    "    url = f\"https://ballershoesdb.com/players/page/{i}/\"\n",
    "    page = requests.get(url)\n",
    "    html_contents = page.text\n",
    "    soup = BeautifulSoup(html_contents, 'html.parser')\n",
    "    if len(soup.find_all(\"div\", class_='item-inside')):\n",
    "        urls.append(url)\n",
    "    else:\n",
    "        break"
   ]
  },
  {
   "cell_type": "code",
   "execution_count": 8,
   "metadata": {},
   "outputs": [
    {
     "name": "stdout",
     "output_type": "stream",
     "text": [
      "0 1 2 3 4 5 6 7 8 9 10 11 12 13 14 15 16 17 18 19 20 21 22 23 24 25 26 27 \n",
      "found 446 player pages\n",
      "('Precious Achiuwa', 'https://ballershoesdb.com/players/precious-achiuwa/')\n",
      "('Steven Adams', 'https://ballershoesdb.com/players/steven-adams/')\n",
      "('Bam Adebayo', 'https://ballershoesdb.com/players/bam-adebayo/')\n",
      "('Santi Aldama', 'https://ballershoesdb.com/players/santi-aldama/')\n",
      "('Nickeil Alexander-Walker', 'https://ballershoesdb.com/players/nickeil-alexander-walker/')\n",
      "('Grayson Allen', 'https://ballershoesdb.com/players/grayson-allen/')\n",
      "('Jarrett Allen', 'https://ballershoesdb.com/players/jarrett-allen/')\n",
      "('Jose Alvarado', 'https://ballershoesdb.com/players/jose-alvarado/')\n",
      "('Kyle Anderson', 'https://ballershoesdb.com/players/kyle-anderson/')\n",
      "('Giannis Antetokounmpo', 'https://ballershoesdb.com/players/giannis-antetokounmpo/')\n"
     ]
    }
   ],
   "source": [
    "def get_soup(url):\n",
    "    page = requests.get(url)\n",
    "    html_contents = page.text\n",
    "    soup = BeautifulSoup(html_contents, 'html.parser')\n",
    "    return soup\n",
    "    \n",
    "players = []\n",
    "for i, url in enumerate(urls):\n",
    "    print(i, end=\" \")\n",
    "    soup = get_soup(url)\n",
    "    player_cards = soup.find_all('div', class_='item-inside')\n",
    "    for player in player_cards:\n",
    "        player_page = player.find_all('a', href=True)[0]['href']\n",
    "        players.append((player.find('h3').text, player_page))\n",
    "\n",
    "print()\n",
    "print(f'found {len(players)} player pages')\n",
    "print(*players[:10], sep=\"\\n\")"
   ]
  },
  {
   "cell_type": "code",
   "execution_count": 10,
   "metadata": {},
   "outputs": [
    {
     "data": {
      "text/plain": [
       "('Nike Kyrie Low 5', 'Forward')"
      ]
     },
     "execution_count": 10,
     "metadata": {},
     "output_type": "execute_result"
    }
   ],
   "source": [
    "def scrape_kicks(url):\n",
    "#     try:\n",
    "    page = requests.get(url)\n",
    "    html_contents = page.text\n",
    "    soup = BeautifulSoup(html_contents, 'html.parser')\n",
    "    \n",
    "    # scrape current shoes\n",
    "    current_shoes = soup.find(\"div\", class_=\"first post-list-item\")\n",
    "    if current_shoes is None:\n",
    "        kicks = ''\n",
    "    else:\n",
    "        kicks = current_shoes.find('h3').text.strip()\n",
    "\n",
    "    position_div = soup.find(\"div\", class_=\"post-title\")\n",
    "    position = position_div.find(\"h2\").findAll(\"span\")[1].getText()\n",
    "    return kicks, position\n",
    "    \n",
    "test_url = \"https://ballershoesdb.com/players/santi-aldama/\"\n",
    "scrape_kicks(test_url)"
   ]
  },
  {
   "cell_type": "code",
   "execution_count": 11,
   "metadata": {},
   "outputs": [
    {
     "name": "stderr",
     "output_type": "stream",
     "text": [
      "100%|██████████| 446/446 [04:14<00:00,  1.75it/s]\n"
     ]
    },
    {
     "data": {
      "text/html": [
       "<div>\n",
       "<style scoped>\n",
       "    .dataframe tbody tr th:only-of-type {\n",
       "        vertical-align: middle;\n",
       "    }\n",
       "\n",
       "    .dataframe tbody tr th {\n",
       "        vertical-align: top;\n",
       "    }\n",
       "\n",
       "    .dataframe thead th {\n",
       "        text-align: right;\n",
       "    }\n",
       "</style>\n",
       "<table border=\"1\" class=\"dataframe\">\n",
       "  <thead>\n",
       "    <tr style=\"text-align: right;\">\n",
       "      <th></th>\n",
       "      <th>Player</th>\n",
       "      <th>Player Page Link</th>\n",
       "      <th>Current Kicks</th>\n",
       "      <th>Position</th>\n",
       "    </tr>\n",
       "  </thead>\n",
       "  <tbody>\n",
       "    <tr>\n",
       "      <th>0</th>\n",
       "      <td>Precious Achiuwa</td>\n",
       "      <td>https://ballershoesdb.com/players/precious-ach...</td>\n",
       "      <td>Anta Daringly 3.0</td>\n",
       "      <td>Forward</td>\n",
       "    </tr>\n",
       "    <tr>\n",
       "      <th>1</th>\n",
       "      <td>Steven Adams</td>\n",
       "      <td>https://ballershoesdb.com/players/steven-adams/</td>\n",
       "      <td>New Balance Two Wxy V3</td>\n",
       "      <td>Center</td>\n",
       "    </tr>\n",
       "    <tr>\n",
       "      <th>2</th>\n",
       "      <td>Bam Adebayo</td>\n",
       "      <td>https://ballershoesdb.com/players/bam-adebayo/</td>\n",
       "      <td>Air Jordan 37</td>\n",
       "      <td>Forward</td>\n",
       "    </tr>\n",
       "    <tr>\n",
       "      <th>3</th>\n",
       "      <td>Santi Aldama</td>\n",
       "      <td>https://ballershoesdb.com/players/santi-aldama/</td>\n",
       "      <td>Nike Kyrie Low 5</td>\n",
       "      <td>Forward</td>\n",
       "    </tr>\n",
       "    <tr>\n",
       "      <th>4</th>\n",
       "      <td>Nickeil Alexander-Walker</td>\n",
       "      <td>https://ballershoesdb.com/players/nickeil-alex...</td>\n",
       "      <td>Nike Kobe 5 Protro</td>\n",
       "      <td>Guard</td>\n",
       "    </tr>\n",
       "    <tr>\n",
       "      <th>...</th>\n",
       "      <td>...</td>\n",
       "      <td>...</td>\n",
       "      <td>...</td>\n",
       "      <td>...</td>\n",
       "    </tr>\n",
       "    <tr>\n",
       "      <th>441</th>\n",
       "      <td>Thaddeus Young</td>\n",
       "      <td>https://ballershoesdb.com/players/thaddeus-young/</td>\n",
       "      <td>Nike Kobe 6 Protro</td>\n",
       "      <td>Forward</td>\n",
       "    </tr>\n",
       "    <tr>\n",
       "      <th>442</th>\n",
       "      <td>Trae Young</td>\n",
       "      <td>https://ballershoesdb.com/players/trae-young/</td>\n",
       "      <td>Adidas Trae Young 2</td>\n",
       "      <td>Guard</td>\n",
       "    </tr>\n",
       "    <tr>\n",
       "      <th>443</th>\n",
       "      <td>Omer Yurtseven</td>\n",
       "      <td>https://ballershoesdb.com/players/omer-yurtseven/</td>\n",
       "      <td>Nike Kobe 5 Protro</td>\n",
       "      <td>Center</td>\n",
       "    </tr>\n",
       "    <tr>\n",
       "      <th>444</th>\n",
       "      <td>Cody Zeller</td>\n",
       "      <td>https://ballershoesdb.com/players/cody-zeller/</td>\n",
       "      <td>Air Jordan 37</td>\n",
       "      <td>Center</td>\n",
       "    </tr>\n",
       "    <tr>\n",
       "      <th>445</th>\n",
       "      <td>Ivica Zubac</td>\n",
       "      <td>https://ballershoesdb.com/players/ivica-zubac/</td>\n",
       "      <td>Adidas D.O.N. Issue #4</td>\n",
       "      <td>Center</td>\n",
       "    </tr>\n",
       "  </tbody>\n",
       "</table>\n",
       "<p>446 rows × 4 columns</p>\n",
       "</div>"
      ],
      "text/plain": [
       "                       Player  \\\n",
       "0            Precious Achiuwa   \n",
       "1                Steven Adams   \n",
       "2                 Bam Adebayo   \n",
       "3                Santi Aldama   \n",
       "4    Nickeil Alexander-Walker   \n",
       "..                        ...   \n",
       "441            Thaddeus Young   \n",
       "442                Trae Young   \n",
       "443            Omer Yurtseven   \n",
       "444               Cody Zeller   \n",
       "445               Ivica Zubac   \n",
       "\n",
       "                                      Player Page Link  \\\n",
       "0    https://ballershoesdb.com/players/precious-ach...   \n",
       "1      https://ballershoesdb.com/players/steven-adams/   \n",
       "2       https://ballershoesdb.com/players/bam-adebayo/   \n",
       "3      https://ballershoesdb.com/players/santi-aldama/   \n",
       "4    https://ballershoesdb.com/players/nickeil-alex...   \n",
       "..                                                 ...   \n",
       "441  https://ballershoesdb.com/players/thaddeus-young/   \n",
       "442      https://ballershoesdb.com/players/trae-young/   \n",
       "443  https://ballershoesdb.com/players/omer-yurtseven/   \n",
       "444     https://ballershoesdb.com/players/cody-zeller/   \n",
       "445     https://ballershoesdb.com/players/ivica-zubac/   \n",
       "\n",
       "              Current Kicks Position  \n",
       "0         Anta Daringly 3.0  Forward  \n",
       "1    New Balance Two Wxy V3   Center  \n",
       "2             Air Jordan 37  Forward  \n",
       "3          Nike Kyrie Low 5  Forward  \n",
       "4        Nike Kobe 5 Protro    Guard  \n",
       "..                      ...      ...  \n",
       "441      Nike Kobe 6 Protro  Forward  \n",
       "442     Adidas Trae Young 2    Guard  \n",
       "443      Nike Kobe 5 Protro   Center  \n",
       "444           Air Jordan 37   Center  \n",
       "445  Adidas D.O.N. Issue #4   Center  \n",
       "\n",
       "[446 rows x 4 columns]"
      ]
     },
     "execution_count": 11,
     "metadata": {},
     "output_type": "execute_result"
    }
   ],
   "source": [
    "df = pd.DataFrame(columns=['Player', 'Player Page Link'], data=players)\n",
    "df[['Current Kicks', 'Position']] = df['Player Page Link'].progress_apply(lambda x: scrape_kicks(x)).to_list()\n",
    "df"
   ]
  },
  {
   "cell_type": "code",
   "execution_count": 12,
   "metadata": {},
   "outputs": [],
   "source": [
    "df.to_csv('player-shoes-data.csv', index=False)"
   ]
  },
  {
   "cell_type": "code",
   "execution_count": 20,
   "metadata": {},
   "outputs": [
    {
     "data": {
      "text/plain": [
       "136"
      ]
     },
     "execution_count": 20,
     "metadata": {},
     "output_type": "execute_result"
    }
   ],
   "source": [
    "kicks_df = df.groupby(['Current Kicks', 'Position'])['Player'].count().reset_index()\n",
    "len(kicks_df['Current Kicks'].unique())"
   ]
  },
  {
   "cell_type": "code",
   "execution_count": null,
   "metadata": {},
   "outputs": [],
   "source": []
  }
 ],
 "metadata": {
  "interpreter": {
   "hash": "a665b5d41d17b532ea9890333293a1b812fa0b73c9c25c950b3cedf1bebd0438"
  },
  "kernelspec": {
   "display_name": "Python 3.9.17 64-bit",
   "language": "python",
   "name": "python3"
  },
  "language_info": {
   "codemirror_mode": {
    "name": "ipython",
    "version": 3
   },
   "file_extension": ".py",
   "mimetype": "text/x-python",
   "name": "python",
   "nbconvert_exporter": "python",
   "pygments_lexer": "ipython3",
   "version": "3.9.17"
  },
  "orig_nbformat": 4
 },
 "nbformat": 4,
 "nbformat_minor": 2
}
